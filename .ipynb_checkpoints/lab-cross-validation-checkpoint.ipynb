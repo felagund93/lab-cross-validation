{
 "cells": [
  {
   "cell_type": "markdown",
   "id": "503fc4f2",
   "metadata": {},
   "source": [
    "![logo_ironhack_blue 7](https://user-images.githubusercontent.com/23629340/40541063-a07a0a8a-601a-11e8-91b5-2f13e4e6b441.png)\n",
    "\n",
    "# Lab | Cross Validation\n",
    "\n",
    "For this lab, we will build a model on customer churn binary classification problem. You will be using `files_for_lab/Customer-Churn.csv` file."
   ]
  },
  {
   "cell_type": "code",
   "execution_count": 1,
   "id": "cfaab97f",
   "metadata": {},
   "outputs": [],
   "source": [
    "# Prepare toolbox\n",
    "\n",
    "import pandas as pd\n",
    "import numpy as np\n",
    "import datetime\n",
    "import warnings\n",
    "import matplotlib.pyplot as plt\n",
    "import seaborn as sns\n",
    "import re\n",
    "\n",
    "from sklearn.preprocessing import OneHotEncoder, StandardScaler, MinMaxScaler, Normalizer\n",
    "from sklearn.metrics import confusion_matrix, classification_report\n",
    "from sklearn.model_selection import train_test_split\n",
    "from sklearn.linear_model import LogisticRegression\n",
    "from sklearn.ensemble import RandomForestClassifier\n",
    "\n",
    "pd.set_option('display.max_columns', None)\n",
    "warnings.filterwarnings('ignore')"
   ]
  },
  {
   "cell_type": "code",
   "execution_count": 2,
   "id": "997cfd0e",
   "metadata": {},
   "outputs": [
    {
     "data": {
      "text/html": [
       "<div>\n",
       "<style scoped>\n",
       "    .dataframe tbody tr th:only-of-type {\n",
       "        vertical-align: middle;\n",
       "    }\n",
       "\n",
       "    .dataframe tbody tr th {\n",
       "        vertical-align: top;\n",
       "    }\n",
       "\n",
       "    .dataframe thead th {\n",
       "        text-align: right;\n",
       "    }\n",
       "</style>\n",
       "<table border=\"1\" class=\"dataframe\">\n",
       "  <thead>\n",
       "    <tr style=\"text-align: right;\">\n",
       "      <th></th>\n",
       "      <th>gender</th>\n",
       "      <th>SeniorCitizen</th>\n",
       "      <th>Partner</th>\n",
       "      <th>Dependents</th>\n",
       "      <th>tenure</th>\n",
       "      <th>PhoneService</th>\n",
       "      <th>OnlineSecurity</th>\n",
       "      <th>OnlineBackup</th>\n",
       "      <th>DeviceProtection</th>\n",
       "      <th>TechSupport</th>\n",
       "      <th>StreamingTV</th>\n",
       "      <th>StreamingMovies</th>\n",
       "      <th>Contract</th>\n",
       "      <th>MonthlyCharges</th>\n",
       "      <th>TotalCharges</th>\n",
       "      <th>Churn</th>\n",
       "    </tr>\n",
       "  </thead>\n",
       "  <tbody>\n",
       "    <tr>\n",
       "      <th>0</th>\n",
       "      <td>Female</td>\n",
       "      <td>0</td>\n",
       "      <td>Yes</td>\n",
       "      <td>No</td>\n",
       "      <td>1</td>\n",
       "      <td>No</td>\n",
       "      <td>No</td>\n",
       "      <td>Yes</td>\n",
       "      <td>No</td>\n",
       "      <td>No</td>\n",
       "      <td>No</td>\n",
       "      <td>No</td>\n",
       "      <td>Month-to-month</td>\n",
       "      <td>29.85</td>\n",
       "      <td>29.85</td>\n",
       "      <td>No</td>\n",
       "    </tr>\n",
       "    <tr>\n",
       "      <th>1</th>\n",
       "      <td>Male</td>\n",
       "      <td>0</td>\n",
       "      <td>No</td>\n",
       "      <td>No</td>\n",
       "      <td>34</td>\n",
       "      <td>Yes</td>\n",
       "      <td>Yes</td>\n",
       "      <td>No</td>\n",
       "      <td>Yes</td>\n",
       "      <td>No</td>\n",
       "      <td>No</td>\n",
       "      <td>No</td>\n",
       "      <td>One year</td>\n",
       "      <td>56.95</td>\n",
       "      <td>1889.5</td>\n",
       "      <td>No</td>\n",
       "    </tr>\n",
       "    <tr>\n",
       "      <th>2</th>\n",
       "      <td>Male</td>\n",
       "      <td>0</td>\n",
       "      <td>No</td>\n",
       "      <td>No</td>\n",
       "      <td>2</td>\n",
       "      <td>Yes</td>\n",
       "      <td>Yes</td>\n",
       "      <td>Yes</td>\n",
       "      <td>No</td>\n",
       "      <td>No</td>\n",
       "      <td>No</td>\n",
       "      <td>No</td>\n",
       "      <td>Month-to-month</td>\n",
       "      <td>53.85</td>\n",
       "      <td>108.15</td>\n",
       "      <td>Yes</td>\n",
       "    </tr>\n",
       "    <tr>\n",
       "      <th>3</th>\n",
       "      <td>Male</td>\n",
       "      <td>0</td>\n",
       "      <td>No</td>\n",
       "      <td>No</td>\n",
       "      <td>45</td>\n",
       "      <td>No</td>\n",
       "      <td>Yes</td>\n",
       "      <td>No</td>\n",
       "      <td>Yes</td>\n",
       "      <td>Yes</td>\n",
       "      <td>No</td>\n",
       "      <td>No</td>\n",
       "      <td>One year</td>\n",
       "      <td>42.30</td>\n",
       "      <td>1840.75</td>\n",
       "      <td>No</td>\n",
       "    </tr>\n",
       "    <tr>\n",
       "      <th>4</th>\n",
       "      <td>Female</td>\n",
       "      <td>0</td>\n",
       "      <td>No</td>\n",
       "      <td>No</td>\n",
       "      <td>2</td>\n",
       "      <td>Yes</td>\n",
       "      <td>No</td>\n",
       "      <td>No</td>\n",
       "      <td>No</td>\n",
       "      <td>No</td>\n",
       "      <td>No</td>\n",
       "      <td>No</td>\n",
       "      <td>Month-to-month</td>\n",
       "      <td>70.70</td>\n",
       "      <td>151.65</td>\n",
       "      <td>Yes</td>\n",
       "    </tr>\n",
       "  </tbody>\n",
       "</table>\n",
       "</div>"
      ],
      "text/plain": [
       "   gender  SeniorCitizen Partner Dependents  tenure PhoneService  \\\n",
       "0  Female              0     Yes         No       1           No   \n",
       "1    Male              0      No         No      34          Yes   \n",
       "2    Male              0      No         No       2          Yes   \n",
       "3    Male              0      No         No      45           No   \n",
       "4  Female              0      No         No       2          Yes   \n",
       "\n",
       "  OnlineSecurity OnlineBackup DeviceProtection TechSupport StreamingTV  \\\n",
       "0             No          Yes               No          No          No   \n",
       "1            Yes           No              Yes          No          No   \n",
       "2            Yes          Yes               No          No          No   \n",
       "3            Yes           No              Yes         Yes          No   \n",
       "4             No           No               No          No          No   \n",
       "\n",
       "  StreamingMovies        Contract  MonthlyCharges TotalCharges Churn  \n",
       "0              No  Month-to-month           29.85        29.85    No  \n",
       "1              No        One year           56.95       1889.5    No  \n",
       "2              No  Month-to-month           53.85       108.15   Yes  \n",
       "3              No        One year           42.30      1840.75    No  \n",
       "4              No  Month-to-month           70.70       151.65   Yes  "
      ]
     },
     "execution_count": 2,
     "metadata": {},
     "output_type": "execute_result"
    }
   ],
   "source": [
    "churnData = pd.read_csv('./files_for_lab/Customer-Churn.csv')\n",
    "churnData.head(5)"
   ]
  },
  {
   "cell_type": "code",
   "execution_count": 3,
   "id": "ff5ee7e5",
   "metadata": {},
   "outputs": [],
   "source": [
    "churnData['TotalCharges']=pd.to_numeric(churnData['TotalCharges'], errors='coerce')\n",
    "churnData_=churnData.dropna()"
   ]
  },
  {
   "cell_type": "code",
   "execution_count": 4,
   "id": "018e2a82",
   "metadata": {},
   "outputs": [],
   "source": [
    "features=['tenure', 'SeniorCitizen', 'MonthlyCharges','TotalCharges']\n",
    "X=churnData_[features]\n",
    "y=churnData_['Churn']"
   ]
  },
  {
   "cell_type": "code",
   "execution_count": 5,
   "id": "aef37a99",
   "metadata": {},
   "outputs": [],
   "source": [
    "transformer = Normalizer().fit(X)\n",
    "X_norm_array=transformer.transform(X)\n",
    "X_normalized=pd.DataFrame(data=X_norm_array,columns=features)"
   ]
  },
  {
   "cell_type": "code",
   "execution_count": 6,
   "id": "9f4b5b99",
   "metadata": {},
   "outputs": [],
   "source": [
    "X_train, X_test, y_train, y_test = train_test_split(X_normalized, y, test_size=0.3, random_state=42)"
   ]
  },
  {
   "cell_type": "markdown",
   "id": "30634a0c",
   "metadata": {},
   "source": [
    "### Instructions\n",
    "\n",
    "1. Apply SMOTE for upsampling the data\n",
    "\n",
    "    - Use logistic regression to fit the model and compute the accuracy of the model.\n",
    "    - Use decision tree classifier to fit the model and compute the accuracy of the model.\n",
    "    - Compare the accuracies of the two models."
   ]
  },
  {
   "cell_type": "code",
   "execution_count": 7,
   "id": "3c5c4fb0",
   "metadata": {},
   "outputs": [
    {
     "data": {
      "text/plain": [
       "No     3614\n",
       "Yes    3614\n",
       "Name: Churn, dtype: int64"
      ]
     },
     "metadata": {},
     "output_type": "display_data"
    },
    {
     "name": "stdout",
     "output_type": "stream",
     "text": [
      "The NO:YES ratio is 1.0\n"
     ]
    }
   ],
   "source": [
    "from imblearn.over_sampling import SMOTE\n",
    "smote = SMOTE()\n",
    "X_train_sm, y_train_sm = smote.fit_resample(X_train, y_train)  #X_train and y_train after SMOTE\n",
    "display(y_train_sm.value_counts())\n",
    "balance_smote=y_train_sm.value_counts() #value counts of the target after SMOTE\n",
    "print(\"The NO:YES ratio is\",round(balance_smote.array[0]/balance_smote.array[1], 0))"
   ]
  },
  {
   "cell_type": "code",
   "execution_count": 14,
   "id": "0ef86c75",
   "metadata": {},
   "outputs": [],
   "source": [
    "classification_LogRes_SMOTE = LogisticRegression(random_state=42, max_iter=1000).fit(X_train_sm, y_train_sm)"
   ]
  },
  {
   "cell_type": "code",
   "execution_count": 15,
   "id": "30f7ef27",
   "metadata": {},
   "outputs": [],
   "source": [
    "classification_RandFor_SMOTE=RandomForestClassifier(n_estimators=100, random_state=42).fit(X_train_sm, y_train_sm)"
   ]
  },
  {
   "cell_type": "code",
   "execution_count": 16,
   "id": "94409b4c",
   "metadata": {},
   "outputs": [
    {
     "name": "stdout",
     "output_type": "stream",
     "text": [
      "LOGISTIC REGRESSION RESULTS\n",
      "Score = 0.746\n",
      "              precision    recall  f1-score   support\n",
      "\n",
      "          No       0.82      0.84      0.83      1549\n",
      "         Yes       0.52      0.47      0.50       561\n",
      "\n",
      "    accuracy                           0.75      2110\n",
      "   macro avg       0.67      0.66      0.66      2110\n",
      "weighted avg       0.74      0.75      0.74      2110\n",
      "\n"
     ]
    },
    {
     "data": {
      "image/png": "[encoded data removed]",
      "text/plain": [
       "<Figure size 432x288 with 2 Axes>"
      ]
     },
     "metadata": {
      "needs_background": "light"
     },
     "output_type": "display_data"
    }
   ],
   "source": [
    "#Score and predictions\n",
    "print(\"LOGISTIC REGRESSION RESULTS\")\n",
    "print(\"Score =\",round(classification_LogRes_SMOTE.score(X_test, y_test), 3))\n",
    "predictions = classification_LogRes_SMOTE.predict(X_test)\n",
    "#display(pd.Series(predictions).value_counts())\n",
    "#display(y_test.value_counts())\n",
    "\n",
    "#Confusion matrices\n",
    "confusion_matrix(y_test, predictions)\n",
    "cf_matrix = confusion_matrix(y_test, predictions)\n",
    "group_names = ['True No', 'False Yes', 'False No', 'True Yes']\n",
    "\n",
    "group_counts = [\"{0:0.0f}\".format(value) for value in cf_matrix.flatten()]\n",
    "group_percentages = [\"{0:.2%}\".format(value) for value in cf_matrix.flatten()/np.sum(cf_matrix)]\n",
    "labels = [f\"{v1}\\n{v2}\\n{v3}\" for v1, v2, v3 in zip(group_names,group_counts,group_percentages)]\n",
    "labels = np.asarray(labels).reshape(2,2) #Modify this accordingly\n",
    "sns.heatmap(cf_matrix, annot=labels, fmt='', cmap='Blues')\n",
    "\n",
    "from sklearn.metrics import plot_confusion_matrix\n",
    "from sklearn.metrics import classification_report\n",
    "#plot_confusion_matrix(classification_LogRes, X_test, y_test, cmap='Blues')\n",
    "#plt.show()\n",
    "print(classification_report(y_test, predictions))"
   ]
  },
  {
   "cell_type": "code",
   "execution_count": 17,
   "id": "6266d1c7",
   "metadata": {},
   "outputs": [
    {
     "name": "stdout",
     "output_type": "stream",
     "text": [
      "RANDOM FOREST RESULTS\n",
      "Score = 0.733\n",
      "              precision    recall  f1-score   support\n",
      "\n",
      "          No       0.84      0.79      0.81      1549\n",
      "         Yes       0.50      0.57      0.53       561\n",
      "\n",
      "    accuracy                           0.73      2110\n",
      "   macro avg       0.67      0.68      0.67      2110\n",
      "weighted avg       0.75      0.73      0.74      2110\n",
      "\n"
     ]
    },
    {
     "data": {
      "image/png": "[encoded data removed]",
      "text/plain": [
       "<Figure size 432x288 with 2 Axes>"
      ]
     },
     "metadata": {
      "needs_background": "light"
     },
     "output_type": "display_data"
    }
   ],
   "source": [
    "#Score and predictions\n",
    "print(\"RANDOM FOREST RESULTS\")\n",
    "print(\"Score =\",round(classification_RandFor_SMOTE.score(X_test, y_test), 3))\n",
    "predictions = classification_RandFor_SMOTE.predict(X_test)\n",
    "#display(pd.Series(predictions).value_counts())\n",
    "#display(y_test.value_counts())\n",
    "\n",
    "#Confusion matrices\n",
    "confusion_matrix(y_test, predictions)\n",
    "cf_matrix = confusion_matrix(y_test, predictions)\n",
    "group_names = ['True No', 'False Yes', 'False No', 'True Yes']\n",
    "\n",
    "group_counts = [\"{0:0.0f}\".format(value) for value in cf_matrix.flatten()]\n",
    "group_percentages = [\"{0:.2%}\".format(value) for value in cf_matrix.flatten()/np.sum(cf_matrix)]\n",
    "labels = [f\"{v1}\\n{v2}\\n{v3}\" for v1, v2, v3 in zip(group_names,group_counts,group_percentages)]\n",
    "labels = np.asarray(labels).reshape(2,2) #Modify this accordingly\n",
    "sns.heatmap(cf_matrix, annot=labels, fmt='', cmap='Blues')\n",
    "\n",
    "from sklearn.metrics import plot_confusion_matrix\n",
    "from sklearn.metrics import classification_report\n",
    "#plot_confusion_matrix(classification_LogRes, X_test, y_test, cmap='Blues')\n",
    "#plt.show()\n",
    "print(classification_report(y_test, predictions))"
   ]
  },
  {
   "cell_type": "markdown",
   "id": "b5581eaa",
   "metadata": {},
   "source": [
    "2. Apply TomekLinks for downsampling\n",
    "\n",
    "    - It is important to remember that it does not make the two classes equal but only removes the points from the majority class that are close to other points in minority class.\n",
    "    - Use logistic regression to fit the model and compute the accuracy of the model.\n",
    "    - Use decision tree classifier to fit the model and compute the accuracy of the model.\n",
    "    - Compare the accuracies of the two models.\n",
    "    - You can also apply this algorithm one more time and check the how the imbalance in the two classes changed from the last time."
   ]
  },
  {
   "cell_type": "code",
   "execution_count": 12,
   "id": "75192276",
   "metadata": {},
   "outputs": [
    {
     "data": {
      "text/plain": [
       "No     3244\n",
       "Yes    1308\n",
       "Name: Churn, dtype: int64"
      ]
     },
     "metadata": {},
     "output_type": "display_data"
    },
    {
     "name": "stdout",
     "output_type": "stream",
     "text": [
      "The NO:YES ratio is 2.0\n"
     ]
    }
   ],
   "source": [
    "from imblearn.under_sampling import TomekLinks\n",
    "tl = TomekLinks(sampling_strategy='not minority') # initialize Tomek Links\n",
    "\n",
    "#Apply undersampling to X_train and y_train\n",
    "X_train_tl, y_train_tl = tl.fit_resample(X_train, y_train)  #X_train and y_train after TL 1\n",
    "display(y_train_tl.value_counts())\n",
    "balance_tomek=y_train_tl.value_counts() #value counts of the target after TL 1\n",
    "print(\"The NO:YES ratio is\",round(balance_tomek.array[0]/balance_tomek.array[1], 0))"
   ]
  },
  {
   "cell_type": "code",
   "execution_count": 18,
   "id": "bacb7a46",
   "metadata": {},
   "outputs": [],
   "source": [
    "classification_LogRes_TOMEK= LogisticRegression(random_state=42, max_iter=1000).fit(X_train_tl, y_train_tl)"
   ]
  },
  {
   "cell_type": "code",
   "execution_count": 19,
   "id": "f52a5548",
   "metadata": {},
   "outputs": [],
   "source": [
    "classification_RandFor_TOMEK=RandomForestClassifier(n_estimators=100, random_state=42).fit(X_train_tl, y_train_tl)"
   ]
  },
  {
   "cell_type": "code",
   "execution_count": 20,
   "id": "be922c4c",
   "metadata": {},
   "outputs": [
    {
     "name": "stdout",
     "output_type": "stream",
     "text": [
      "LOGISTIC REGRESSION RESULTS\n",
      "Score = 0.756\n",
      "              precision    recall  f1-score   support\n",
      "\n",
      "          No       0.78      0.92      0.85      1549\n",
      "         Yes       0.58      0.29      0.39       561\n",
      "\n",
      "    accuracy                           0.76      2110\n",
      "   macro avg       0.68      0.61      0.62      2110\n",
      "weighted avg       0.73      0.76      0.73      2110\n",
      "\n"
     ]
    },
    {
     "data": {
      "image/png": "[encoded data removed]",
      "text/plain": [
       "<Figure size 432x288 with 2 Axes>"
      ]
     },
     "metadata": {
      "needs_background": "light"
     },
     "output_type": "display_data"
    }
   ],
   "source": [
    "#Score and predictions\n",
    "print(\"LOGISTIC REGRESSION RESULTS\")\n",
    "print(\"Score =\",round(classification_LogRes_TOMEK.score(X_test, y_test), 3))\n",
    "predictions = classification_LogRes_TOMEK.predict(X_test)\n",
    "#display(pd.Series(predictions).value_counts())\n",
    "#display(y_test.value_counts())\n",
    "\n",
    "#Confusion matrices\n",
    "confusion_matrix(y_test, predictions)\n",
    "cf_matrix = confusion_matrix(y_test, predictions)\n",
    "group_names = ['True No', 'False Yes', 'False No', 'True Yes']\n",
    "\n",
    "group_counts = [\"{0:0.0f}\".format(value) for value in cf_matrix.flatten()]\n",
    "group_percentages = [\"{0:.2%}\".format(value) for value in cf_matrix.flatten()/np.sum(cf_matrix)]\n",
    "labels = [f\"{v1}\\n{v2}\\n{v3}\" for v1, v2, v3 in zip(group_names,group_counts,group_percentages)]\n",
    "labels = np.asarray(labels).reshape(2,2) #Modify this accordingly\n",
    "sns.heatmap(cf_matrix, annot=labels, fmt='', cmap='Blues')\n",
    "\n",
    "from sklearn.metrics import plot_confusion_matrix\n",
    "from sklearn.metrics import classification_report\n",
    "#plot_confusion_matrix(classification_LogRes, X_test, y_test, cmap='Blues')\n",
    "#plt.show()\n",
    "print(classification_report(y_test, predictions))"
   ]
  },
  {
   "cell_type": "code",
   "execution_count": 21,
   "id": "d2d22014",
   "metadata": {},
   "outputs": [
    {
     "name": "stdout",
     "output_type": "stream",
     "text": [
      "RANDOM FOREST RESULTS\n",
      "Score = 0.745\n",
      "              precision    recall  f1-score   support\n",
      "\n",
      "          No       0.83      0.82      0.83      1549\n",
      "         Yes       0.52      0.53      0.53       561\n",
      "\n",
      "    accuracy                           0.75      2110\n",
      "   macro avg       0.68      0.68      0.68      2110\n",
      "weighted avg       0.75      0.75      0.75      2110\n",
      "\n"
     ]
    },
    {
     "data": {
      "image/png": "[encoded data removed]",
      "text/plain": [
       "<Figure size 432x288 with 2 Axes>"
      ]
     },
     "metadata": {
      "needs_background": "light"
     },
     "output_type": "display_data"
    }
   ],
   "source": [
    "#Score and predictions\n",
    "print(\"RANDOM FOREST RESULTS\")\n",
    "print(\"Score =\",round(classification_RandFor_TOMEK.score(X_test, y_test), 3))\n",
    "predictions = classification_RandFor_TOMEK.predict(X_test)\n",
    "#display(pd.Series(predictions).value_counts())\n",
    "#display(y_test.value_counts())\n",
    "\n",
    "#Confusion matrices\n",
    "confusion_matrix(y_test, predictions)\n",
    "cf_matrix = confusion_matrix(y_test, predictions)\n",
    "group_names = ['True No', 'False Yes', 'False No', 'True Yes']\n",
    "\n",
    "group_counts = [\"{0:0.0f}\".format(value) for value in cf_matrix.flatten()]\n",
    "group_percentages = [\"{0:.2%}\".format(value) for value in cf_matrix.flatten()/np.sum(cf_matrix)]\n",
    "labels = [f\"{v1}\\n{v2}\\n{v3}\" for v1, v2, v3 in zip(group_names,group_counts,group_percentages)]\n",
    "labels = np.asarray(labels).reshape(2,2) #Modify this accordingly\n",
    "sns.heatmap(cf_matrix, annot=labels, fmt='', cmap='Blues')\n",
    "\n",
    "from sklearn.metrics import plot_confusion_matrix\n",
    "from sklearn.metrics import classification_report\n",
    "#plot_confusion_matrix(classification_LogRes, X_test, y_test, cmap='Blues')\n",
    "#plt.show()\n",
    "print(classification_report(y_test, predictions))"
   ]
  },
  {
   "cell_type": "code",
   "execution_count": null,
   "id": "79b9e7ed",
   "metadata": {},
   "outputs": [],
   "source": []
  }
 ],
 "metadata": {
  "kernelspec": {
   "display_name": "Python 3",
   "language": "python",
   "name": "python3"
  },
  "language_info": {
   "codemirror_mode": {
    "name": "ipython",
    "version": 3
   },
   "file_extension": ".py",
   "mimetype": "text/x-python",
   "name": "python",
   "nbconvert_exporter": "python",
   "pygments_lexer": "ipython3",
   "version": "3.8.8"
  }
 },
 "nbformat": 4,
 "nbformat_minor": 5
}
